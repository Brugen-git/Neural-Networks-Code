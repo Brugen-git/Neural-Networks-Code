{
  "nbformat": 4,
  "nbformat_minor": 0,
  "metadata": {
    "colab": {
      "name": "NN3.ipynb",
      "provenance": [],
      "authorship_tag": "ABX9TyMdpquJrF9ewpxBKAZrliu3",
      "include_colab_link": true
    },
    "kernelspec": {
      "name": "python3",
      "display_name": "Python 3"
    },
    "language_info": {
      "name": "python"
    }
  },
  "cells": [
    {
      "cell_type": "markdown",
      "metadata": {
        "id": "view-in-github",
        "colab_type": "text"
      },
      "source": [
        "<a href=\"https://colab.research.google.com/github/Brugen-git/Neural-Networks-Code/blob/main/Implementing-Hebb-Learning-Algo-ANDGATE.ipynb\" target=\"_parent\"><img src=\"https://colab.research.google.com/assets/colab-badge.svg\" alt=\"Open In Colab\"/></a>"
      ]
    },
    {
      "cell_type": "code",
      "execution_count": 27,
      "metadata": {
        "id": "IGsX4GUoRkVp"
      },
      "outputs": [],
      "source": [
        "import numpy as np"
      ]
    },
    {
      "cell_type": "code",
      "source": [
        "x1= np.array([-1,-1,1,1])\n",
        "x2= np.array([-1,1,-1,1])\n",
        "bias= np.array([1,1,1,1])\n",
        "y=[]"
      ],
      "metadata": {
        "id": "cNumtUYMY4aw"
      },
      "execution_count": 28,
      "outputs": []
    },
    {
      "cell_type": "code",
      "source": [
        "for i in range(len(x1)):\n",
        "    if x1[i]==-1 or x2[i]==-1:\n",
        "        y.append(-1)\n",
        "    else:\n",
        "        y.append(1)\n",
        "        \n",
        "print(y)"
      ],
      "metadata": {
        "colab": {
          "base_uri": "https://localhost:8080/"
        },
        "id": "GC6hi91tY7zV",
        "outputId": "6f4ae2de-af34-4b9e-e3c2-d2ca44f227f8"
      },
      "execution_count": 29,
      "outputs": [
        {
          "output_type": "stream",
          "name": "stdout",
          "text": [
            "[-1, -1, -1, 1]\n"
          ]
        }
      ]
    },
    {
      "cell_type": "code",
      "source": [
        "deltaw1=[]\n",
        "deltaw2=[]\n",
        "deltabias=y\n",
        "for i in range(len(x1)):\n",
        "    deltaw1.append(x1[i]*y[i])\n",
        "for i in range(len(x2)):\n",
        "    deltaw2.append(x2[i]*y[i])\n",
        "print(deltaw1)\n",
        "print(deltaw2)\n",
        "print(deltabias)\n"
      ],
      "metadata": {
        "colab": {
          "base_uri": "https://localhost:8080/"
        },
        "id": "Iwn6giL7Y_Rp",
        "outputId": "1b266dec-399a-4c8c-f62e-a4966115553b"
      },
      "execution_count": 30,
      "outputs": [
        {
          "output_type": "stream",
          "name": "stdout",
          "text": [
            "[1, 1, -1, 1]\n",
            "[1, -1, 1, 1]\n",
            "[-1, -1, -1, 1]\n"
          ]
        }
      ]
    },
    {
      "cell_type": "code",
      "source": [
        "w1=[0,]\n",
        "w2=[0,]\n",
        "bias=[0,]\n"
      ],
      "metadata": {
        "id": "gCJmYEauZcTF"
      },
      "execution_count": 31,
      "outputs": []
    },
    {
      "cell_type": "code",
      "source": [
        "for i in range(len(deltaw1)):\n",
        "    if i==0:\n",
        "        w1[i]= w1[i]+deltaw1[i]\n",
        "        w2[i]= w2[i]+deltaw2[i]\n",
        "        bias[i]= bias[i]+deltabias[i]\n",
        "    else:\n",
        "        w1.append(w1[i-1]+deltaw1[i])\n",
        "        w2.append(w2[i-1]+deltaw2[i])\n",
        "        bias.append(bias[i-1]+deltabias[i])"
      ],
      "metadata": {
        "id": "Pj0bsgLBZwcU"
      },
      "execution_count": 32,
      "outputs": []
    },
    {
      "cell_type": "code",
      "source": [
        "print(w1)\n",
        "print(w2)\n",
        "print(bias)"
      ],
      "metadata": {
        "colab": {
          "base_uri": "https://localhost:8080/"
        },
        "id": "G1_3a7UGZ3F7",
        "outputId": "26f6b335-6189-4794-abd9-559b2649a0be"
      },
      "execution_count": 33,
      "outputs": [
        {
          "output_type": "stream",
          "name": "stdout",
          "text": [
            "[1, 2, 1, 2]\n",
            "[1, 0, 1, 2]\n",
            "[-1, -2, -3, -2]\n"
          ]
        }
      ]
    }
  ]
}