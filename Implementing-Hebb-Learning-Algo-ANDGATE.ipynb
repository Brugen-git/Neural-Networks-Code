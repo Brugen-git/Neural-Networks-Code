{
  "nbformat": 4,
  "nbformat_minor": 0,
  "metadata": {
    "colab": {
      "name": "NN3.ipynb",
      "provenance": [],
      "collapsed_sections": [],
      "authorship_tag": "ABX9TyPXUtJhknbln6/haAdLqrW6",
      "include_colab_link": true
    },
    "kernelspec": {
      "name": "python3",
      "display_name": "Python 3"
    },
    "language_info": {
      "name": "python"
    }
  },
  "cells": [
    {
      "cell_type": "markdown",
      "metadata": {
        "id": "view-in-github",
        "colab_type": "text"
      },
      "source": [
        "<a href=\"https://colab.research.google.com/github/Brugen-git/Neural-Networks-Code/blob/main/Implementing-Hebb-Learning-Algo-ANDGATE.ipynb\" target=\"_parent\"><img src=\"https://colab.research.google.com/assets/colab-badge.svg\" alt=\"Open In Colab\"/></a>"
      ]
    },
    {
      "cell_type": "code",
      "execution_count": 46,
      "metadata": {
        "id": "IGsX4GUoRkVp"
      },
      "outputs": [],
      "source": [
        "import numpy as np\n",
        "import matplotlib.pyplot as plt"
      ]
    },
    {
      "cell_type": "code",
      "source": [
        "x1= np.array([-1,-1,1,1])\n",
        "x2= np.array([-1,1,-1,1])\n",
        "bias= np.array([1,1,1,1])\n",
        "y=[-1,-1,-1,1]"
      ],
      "metadata": {
        "id": "cNumtUYMY4aw"
      },
      "execution_count": 47,
      "outputs": []
    },
    {
      "cell_type": "code",
      "source": [
        "for i in range(len(x1)):\n",
        "    if x1[i]==-1 or x2[i]==-1:\n",
        "        y.append(-1)\n",
        "    else:\n",
        "        y.append(1)\n",
        "        \n",
        "print(y)"
      ],
      "metadata": {
        "colab": {
          "base_uri": "https://localhost:8080/"
        },
        "id": "GC6hi91tY7zV",
        "outputId": "8c56bbad-a264-43e1-e215-fa6d6213e4ca"
      },
      "execution_count": 48,
      "outputs": [
        {
          "output_type": "stream",
          "name": "stdout",
          "text": [
            "[-1, -1, -1, 1, -1, -1, -1, 1]\n"
          ]
        }
      ]
    },
    {
      "cell_type": "code",
      "source": [
        "deltaw1=[]\n",
        "deltaw2=[]\n",
        "deltabias=y\n",
        "for i in range(len(x1)):\n",
        "    deltaw1.append(x1[i]*y[i])\n",
        "for i in range(len(x2)):\n",
        "    deltaw2.append(x2[i]*y[i])\n",
        "print(deltaw1)\n",
        "print(deltaw2)\n",
        "print(deltabias)\n"
      ],
      "metadata": {
        "colab": {
          "base_uri": "https://localhost:8080/"
        },
        "id": "Iwn6giL7Y_Rp",
        "outputId": "53e36e9a-5f75-4cd1-cdb9-9a3b40e9ef80"
      },
      "execution_count": 49,
      "outputs": [
        {
          "output_type": "stream",
          "name": "stdout",
          "text": [
            "[1, 1, -1, 1]\n",
            "[1, -1, 1, 1]\n",
            "[-1, -1, -1, 1, -1, -1, -1, 1]\n"
          ]
        }
      ]
    },
    {
      "cell_type": "code",
      "source": [
        "w1=[0,]\n",
        "w2=[0,]\n",
        "bias=[0,]\n"
      ],
      "metadata": {
        "id": "gCJmYEauZcTF"
      },
      "execution_count": 50,
      "outputs": []
    },
    {
      "cell_type": "code",
      "source": [
        "for i in range(len(deltaw1)):\n",
        "    if i==0:\n",
        "        w1[i]= w1[i]+deltaw1[i]\n",
        "        w2[i]= w2[i]+deltaw2[i]\n",
        "        bias[i]= bias[i]+deltabias[i]\n",
        "    else:\n",
        "        w1.append(w1[i-1]+deltaw1[i])\n",
        "        w2.append(w2[i-1]+deltaw2[i])\n",
        "        bias.append(bias[i-1]+deltabias[i])"
      ],
      "metadata": {
        "id": "Pj0bsgLBZwcU"
      },
      "execution_count": 51,
      "outputs": []
    },
    {
      "cell_type": "code",
      "source": [
        "print(w1)\n",
        "print(w2)\n",
        "print(bias)"
      ],
      "metadata": {
        "id": "G1_3a7UGZ3F7",
        "outputId": "87183838-86dd-4a4e-c13f-ba6ea0fc24b5",
        "colab": {
          "base_uri": "https://localhost:8080/"
        }
      },
      "execution_count": 52,
      "outputs": [
        {
          "output_type": "stream",
          "name": "stdout",
          "text": [
            "[1, 2, 1, 2]\n",
            "[1, 0, 1, 2]\n",
            "[-1, -2, -3, -2]\n"
          ]
        }
      ]
    },
    {
      "cell_type": "code",
      "source": [
        "print(f'Final weights are w1: {w1[3]} w2: {w2[3]} bias: {bias[3]}')\n",
        "print(f'Equation formed is {w1[3]}x1 + {w2[3]}x2 {bias[3]} =0')\n"
      ],
      "metadata": {
        "colab": {
          "base_uri": "https://localhost:8080/"
        },
        "id": "QZ4QGqSqc6SR",
        "outputId": "8271c254-8705-4b4e-c086-0582bb107b89"
      },
      "execution_count": 53,
      "outputs": [
        {
          "output_type": "stream",
          "name": "stdout",
          "text": [
            "Final weights are w1: 2 w2: 2 bias: -2\n",
            "Equation formed is 2x1 + 2x2 -2 =0\n"
          ]
        }
      ]
    },
    {
      "cell_type": "code",
      "source": [
        "w1 = np.linspace(1,0)\n",
        "w2 = 1-w1\n",
        "plt.plot(w1, w2, '-r', label='x1+x2-1=0')\n",
        "plt.title('Graph of x1+x2-1=0')\n",
        "plt.xlabel('x', color='#1C2833')\n",
        "plt.ylabel('y', color='#1C2833')\n",
        "plt.legend(loc='upper left')\n",
        "plt.grid()\n",
        "plt.show()"
      ],
      "metadata": {
        "colab": {
          "base_uri": "https://localhost:8080/",
          "height": 295
        },
        "id": "vXLGDTHEdQdT",
        "outputId": "12cbc578-3bad-47bb-8054-fa56a5626527"
      },
      "execution_count": 55,
      "outputs": [
        {
          "output_type": "display_data",
          "data": {
            "text/plain": [
              "<Figure size 432x288 with 1 Axes>"
            ],
            "image/png": "[encoded data removed]"
          },
          "metadata": {
            "needs_background": "light"
          }
        }
      ]
    },
    {
      "cell_type": "code",
      "source": [],
      "metadata": {
        "id": "8wBCfRGchGLz"
      },
      "execution_count": 54,
      "outputs": []
    }
  ]
}